{
  "nbformat": 4,
  "nbformat_minor": 0,
  "metadata": {
    "colab": {
      "provenance": []
    },
    "kernelspec": {
      "name": "python3",
      "display_name": "Python 3"
    },
    "language_info": {
      "name": "python"
    }
  },
  "cells": [
    {
      "cell_type": "markdown",
      "source": [
        "# **Machine Problem: Implementing a Logic-Based Model in Python**"
      ],
      "metadata": {
        "id": "vq4idPjSzpP_"
      }
    },
    {
      "cell_type": "markdown",
      "source": [
        "# **1. Propositional Logic Operations**"
      ],
      "metadata": {
        "id": "Pu2amQ-mvYX-"
      }
    },
    {
      "cell_type": "code",
      "execution_count": 2,
      "metadata": {
        "id": "-AeuCUt5vW0n"
      },
      "outputs": [],
      "source": [
        "def and_operation(p, q):\n",
        "    return p and q\n",
        "\n",
        "def or_operation(p, q):\n",
        "    return p or q\n",
        "\n",
        "def not_operation(p):\n",
        "    return not p\n",
        "\n",
        "def implies_operation(p, q):\n",
        "    return not p or q"
      ]
    },
    {
      "cell_type": "markdown",
      "source": [
        "**Functions**\n",
        "\n",
        "- and_operation(p, q):\n",
        "\n",
        "  - Purpose: Implements the logical AND operation.\n",
        "  - Input: Two boolean values, p and q.\n",
        "  - Output: Returns True if both p and q are True; otherwise, returns False.\n",
        "\n",
        "- or_operation(p, q):\n",
        "\n",
        "  - Purpose: Implements the logical OR operation.\n",
        "  - Input: Two boolean values, p and q.\n",
        "  - Output: Returns True if at least one of p or q is True; otherwise, returns False.\n",
        "\n",
        "- not_operation(p):\n",
        "  - Purpose: Implements the logical NOT operation.\n",
        "  - Input: A boolean value p.\n",
        "  - Output: Returns True if p is False, and False if p is True.\n",
        "\n",
        "- implies_operation(p, q):\n",
        "  - Purpose: Implements logical implication (if-then).\n",
        "  - Input: Two boolean values, p and q.\n",
        "  - Output: Returns True unless p is True and q is False."
      ],
      "metadata": {
        "id": "12aQUD2s2lTN"
      }
    },
    {
      "cell_type": "code",
      "source": [
        "p = True\n",
        "q = False\n",
        "\n",
        "print(\"AND Operation (p ∧ q):\", and_operation(p, q))\n",
        "print(\"OR Operation (p ∨ q):\", or_operation(p, q))\n",
        "print(\"NOT Operation (¬p):\", not_operation(p))\n",
        "print(\"IMPLIES Operation (p → q):\", implies_operation(p, q))"
      ],
      "metadata": {
        "colab": {
          "base_uri": "https://localhost:8080/"
        },
        "id": "Jz8GhtxEwH6V",
        "outputId": "37df4d96-e1f6-4f0a-dcfb-a7d074117618"
      },
      "execution_count": 6,
      "outputs": [
        {
          "output_type": "stream",
          "name": "stdout",
          "text": [
            "AND Operation (p ∧ q): False\n",
            "OR Operation (p ∨ q): True\n",
            "NOT Operation (¬p): False\n",
            "IMPLIES Operation (p → q): False\n"
          ]
        }
      ]
    },
    {
      "cell_type": "markdown",
      "source": [
        "# **2. Evaluate Logical Statements**"
      ],
      "metadata": {
        "id": "zvy-IzBtwfv9"
      }
    },
    {
      "cell_type": "code",
      "source": [
        "def evaluate(statement, values):\n",
        "    if statement in values:\n",
        "        return values[statement]\n",
        "    elif statement.startswith(\"not \"):\n",
        "        return not evaluate(statement[4:], values)\n",
        "\n",
        "    for op in [\"and\", \"or\", \"implies\"]:\n",
        "        if op in statement:\n",
        "            left, right = statement.split(\" \" + op + \" \")\n",
        "            if op == \"and\":\n",
        "                return evaluate(left, values) and evaluate(right, values)\n",
        "            elif op == \"or\":\n",
        "                return evaluate(left, values) or evaluate(right, values)\n",
        "            else:\n",
        "                return not evaluate(left, values) or evaluate(right, values)\n",
        "\n",
        "    raise ValueError(\"Invalid statement format.\")"
      ],
      "metadata": {
        "id": "oIqASfv5wuQd"
      },
      "execution_count": 10,
      "outputs": []
    },
    {
      "cell_type": "markdown",
      "source": [
        "**Function**\n",
        "\n",
        "- evaluate(statement, values):\n",
        "  - Purpose: Evaluates logical statements represented as strings based on the provided truth values.\n",
        "\n",
        "  - Input:\n",
        "    - statement: A string representing a logical expression (e.g., \"p and q\").\n",
        "    values: A dictionary mapping propositions (like \"p\" and \"q\") to their boolean values.\n",
        "    - Output: Returns the truth value of the evaluated statement.\n",
        "\n",
        "  - Logic:\n",
        "If the statement is a key in values, it returns the corresponding value.\n",
        "If the statement starts with \"not\", it recursively evaluates the negation of the following expression.\n",
        "For binary operations (\"and\", \"or\", \"implies\"), it splits the statement into left and right parts and recursively evaluates them based on the operator."
      ],
      "metadata": {
        "id": "Ek2Dg6mP3Z_F"
      }
    },
    {
      "cell_type": "code",
      "source": [
        "p = True\n",
        "q = False\n",
        "values = {\"p\": p, \"q\": q}\n",
        "\n",
        "statement1 = \"p and q\"\n",
        "statement2 = \"p or q\"\n",
        "statement3 = \"not p\"\n",
        "statement4 = \"p implies q\"\n",
        "\n",
        "print(evaluate(statement1, values))\n",
        "print(evaluate(statement2, values))\n",
        "print(evaluate(statement3, values))\n",
        "print(evaluate(statement4, values))"
      ],
      "metadata": {
        "colab": {
          "base_uri": "https://localhost:8080/"
        },
        "id": "RuPL7hemxRxG",
        "outputId": "b87d5fbb-d9ad-48d0-f3c3-49fc4aa8ebaf"
      },
      "execution_count": 12,
      "outputs": [
        {
          "output_type": "stream",
          "name": "stdout",
          "text": [
            "False\n",
            "True\n",
            "False\n",
            "False\n"
          ]
        }
      ]
    },
    {
      "cell_type": "markdown",
      "source": [
        "# **3. Extend to Predicate Logic**"
      ],
      "metadata": {
        "id": "KmcCQr7px4a9"
      }
    },
    {
      "cell_type": "code",
      "source": [
        "def forall(predicate, domain):\n",
        "    for element in domain:\n",
        "        if not predicate(element):\n",
        "            return False\n",
        "    return True\n",
        "\n",
        "def exists(predicate, domain):\n",
        "    for element in domain:\n",
        "        if predicate(element):\n",
        "            return True\n",
        "    return False"
      ],
      "metadata": {
        "id": "djiBEac8x0_Q"
      },
      "execution_count": 13,
      "outputs": []
    },
    {
      "cell_type": "markdown",
      "source": [
        "**Functions**\n",
        "- forall(predicate, domain):\n",
        "\n",
        "  - Purpose: Evaluates whether a predicate holds true for all elements in a given domain.\n",
        "  - Input:\n",
        "predicate: A function that takes an element and returns a boolean.\n",
        "domain: A list of elements to evaluate the predicate against.\n",
        "  - Output: Returns True if the predicate is true for every element; otherwise, returns False.\n",
        "- exists(predicate, domain):\n",
        "  - Purpose: Evaluates whether a predicate holds true for at least one element in a given domain.\n",
        "  - Input: Same as forall.\n",
        "  - Output: Returns True if the predicate is true for at least one element; otherwise, returns False."
      ],
      "metadata": {
        "id": "eetudcFW4hYd"
      }
    },
    {
      "cell_type": "code",
      "source": [
        "def is_even(x):\n",
        "    return x % 2 == 0\n",
        "\n",
        "def is_positive(x):\n",
        "    return x > 0\n",
        "\n",
        "numbers = [-2, -1, 0, 1, 2, 3, 4, 5]\n",
        "positive_numbers = [1, 2, 3, 4, 5]\n",
        "\n",
        "print(forall(is_even, numbers))\n",
        "print(forall(is_positive, positive_numbers))\n",
        "\n",
        "print(exists(is_even, numbers))\n",
        "print(exists(is_positive, [-1, -2, -3]))"
      ],
      "metadata": {
        "colab": {
          "base_uri": "https://localhost:8080/"
        },
        "id": "5SiNheWWyJs1",
        "outputId": "a608a1bb-1ba1-45b2-a2b9-8bccd25dc38b"
      },
      "execution_count": 14,
      "outputs": [
        {
          "output_type": "stream",
          "name": "stdout",
          "text": [
            "False\n",
            "True\n",
            "True\n",
            "False\n"
          ]
        }
      ]
    },
    {
      "cell_type": "markdown",
      "source": [
        "# **4. AI Agent Development**"
      ],
      "metadata": {
        "id": "_MRjH4j8y3x1"
      }
    },
    {
      "cell_type": "code",
      "source": [
        "class CookingAIAgent:\n",
        "    def __init__(self):\n",
        "        self.recipes = {\n",
        "            \"breakfast\": {\n",
        "                \"Omelette\": {\"eggs\", \"cheese\", \"vegetables\"},\n",
        "                \"Pancakes\": {\"flour\", \"eggs\", \"milk\"}\n",
        "            },\n",
        "            \"lunch\": {\n",
        "                \"Salad\": {\"lettuce\", \"tomatoes\", \"dressing\"},\n",
        "                \"Sandwich\": {\"bread\", \"cheese\", \"deli meat\"}\n",
        "            },\n",
        "            \"dinner\": {\n",
        "                \"Pasta\": {\"pasta\", \"sauce\", \"cheese\"},\n",
        "                \"Stir-fry\": {\"vegetables\", \"protein\"}\n",
        "            }\n",
        "        }\n",
        "\n",
        "    def suggest_recipe(self, available_ingredients, meal_type):\n",
        "        \"\"\"Suggests a recipe based on available ingredients and desired meal type.\"\"\"\n",
        "        available_ingredients_set = set(available_ingredients)\n",
        "\n",
        "        if meal_type in self.recipes:\n",
        "            for recipe, ingredients in self.recipes[meal_type].items():\n",
        "                if ingredients.issubset(available_ingredients_set):\n",
        "                    return f\"You can make {recipe} for {meal_type}.\"\n",
        "\n",
        "        return \"Sorry, I don't have a recipe for that meal type with the given ingredients.\""
      ],
      "metadata": {
        "id": "vw_qa5oKyxRN"
      },
      "execution_count": 22,
      "outputs": []
    },
    {
      "cell_type": "markdown",
      "source": [
        "- Class: CookingAIAgent\n",
        "__init__(self):\n",
        "    - Purpose: Initializes the cooking AI agent with a predefined set of recipes categorized by meal type (breakfast, lunch, dinner).\n",
        "    - Recipes: Each recipe is associated with a set of required ingredients.\n",
        "- Method: suggest_recipe(self, available_ingredients, meal_type)\n",
        "  - Purpose: Suggests a recipe based on available ingredients and the desired meal type.\n",
        "  - Input:\n",
        "available_ingredients: A list of ingredients currently available.\n",
        "meal_type: A string indicating the type of meal (e.g., \"breakfast\").\n",
        "  - Output: Returns a suggestion for a recipe if the ingredients match; otherwise, it informs the user that no suitable recipe is available.\n",
        "  - Logic:\n",
        "Converts the list of available ingredients into a set for easy comparison.\n",
        "Checks if the meal type exists in the recipes and iterates through the recipes to see if the required ingredients are a subset of the available ingredients."
      ],
      "metadata": {
        "id": "1Z0JWgIv6xu1"
      }
    },
    {
      "cell_type": "code",
      "source": [
        "agent = CookingAIAgent()\n",
        "\n",
        "available_ingredients = [\"lettuce\", \"tomatoes\", \"dressing\"]\n",
        "meal_type = \"lunch\"\n",
        "\n",
        "suggestion = agent.suggest_recipe(available_ingredients, meal_type)\n",
        "print(suggestion)"
      ],
      "metadata": {
        "colab": {
          "base_uri": "https://localhost:8080/"
        },
        "id": "rJQBBDVQy9_F",
        "outputId": "bb8fcb3f-3798-4efc-df16-9481b191df87"
      },
      "execution_count": 25,
      "outputs": [
        {
          "output_type": "stream",
          "name": "stdout",
          "text": [
            "You can make Salad for lunch.\n"
          ]
        }
      ]
    }
  ]
}